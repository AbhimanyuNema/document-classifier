{
  "nbformat": 4,
  "nbformat_minor": 0,
  "metadata": {
    "colab": {
      "provenance": []
    },
    "kernelspec": {
      "name": "python3",
      "display_name": "Python 3"
    },
    "language_info": {
      "name": "python"
    }
  },
  "cells": [
    {
      "cell_type": "code",
      "source": [
        "import json\n",
        "import pandas as pd\n",
        "from pprint import pprint"
      ],
      "metadata": {
        "id": "WceBsYHA1E6o"
      },
      "execution_count": 5,
      "outputs": []
    },
    {
      "cell_type": "code",
      "source": [
        "with open('predictions.jsonl', 'r') as f:\n",
        "  f = f.readlines()"
      ],
      "metadata": {
        "id": "O4n2xH_91Tld"
      },
      "execution_count": 6,
      "outputs": []
    },
    {
      "cell_type": "code",
      "source": [
        "predLabels = []\n",
        "for i in f:\n",
        "  j = json.loads(i)[\"Classes\"]\n",
        "  predLabels.append(j[0]['Name'])\n",
        "  print(j)\n"
      ],
      "metadata": {
        "colab": {
          "base_uri": "https://localhost:8080/"
        },
        "collapsed": true,
        "id": "V3VwHEgY2H54",
        "outputId": "711fee6c-6e4d-480b-e589-20e5dc335ca0"
      },
      "execution_count": 11,
      "outputs": [
        {
          "output_type": "stream",
          "name": "stdout",
          "text": [
            "[{'Name': 'sport', 'Score': 0.9841}, {'Name': 'entertainment', 'Score': 0.0081}, {'Name': 'politics', 'Score': 0.0045}]\n",
            "[{'Name': 'entertainment', 'Score': 0.9943}, {'Name': 'tech', 'Score': 0.002}, {'Name': 'sport', 'Score': 0.0016}]\n",
            "[{'Name': 'business', 'Score': 0.6909}, {'Name': 'sport', 'Score': 0.1322}, {'Name': 'entertainment', 'Score': 0.0896}]\n",
            "[{'Name': 'entertainment', 'Score': 0.997}, {'Name': 'tech', 'Score': 0.0025}, {'Name': 'business', 'Score': 0.0002}]\n",
            "[{'Name': 'entertainment', 'Score': 0.995}, {'Name': 'sport', 'Score': 0.0017}, {'Name': 'business', 'Score': 0.0014}]\n",
            "[{'Name': 'tech', 'Score': 1.0}, {'Name': 'business', 'Score': 0.0}, {'Name': 'entertainment', 'Score': 0.0}]\n",
            "[{'Name': 'entertainment', 'Score': 0.9262}, {'Name': 'sport', 'Score': 0.0336}, {'Name': 'tech', 'Score': 0.0189}]\n",
            "[{'Name': 'tech', 'Score': 0.9999}, {'Name': 'sport', 'Score': 0.0}, {'Name': 'politics', 'Score': 0.0}]\n",
            "[{'Name': 'entertainment', 'Score': 0.7794}, {'Name': 'business', 'Score': 0.1747}, {'Name': 'tech', 'Score': 0.0252}]\n",
            "[{'Name': 'business', 'Score': 0.9456}, {'Name': 'politics', 'Score': 0.0223}, {'Name': 'tech', 'Score': 0.0188}]\n",
            "[{'Name': 'tech', 'Score': 1.0}, {'Name': 'entertainment', 'Score': 0.0}, {'Name': 'politics', 'Score': 0.0}]\n",
            "[{'Name': 'politics', 'Score': 0.9795}, {'Name': 'entertainment', 'Score': 0.0088}, {'Name': 'sport', 'Score': 0.0067}]\n",
            "[{'Name': 'politics', 'Score': 0.9915}, {'Name': 'entertainment', 'Score': 0.0073}, {'Name': 'business', 'Score': 0.0008}]\n",
            "[{'Name': 'tech', 'Score': 0.999}, {'Name': 'entertainment', 'Score': 0.0005}, {'Name': 'sport', 'Score': 0.0002}]\n",
            "[{'Name': 'sport', 'Score': 0.9972}, {'Name': 'tech', 'Score': 0.0014}, {'Name': 'entertainment', 'Score': 0.0009}]\n",
            "[{'Name': 'entertainment', 'Score': 1.0}, {'Name': 'tech', 'Score': 0.0}, {'Name': 'business', 'Score': 0.0}]\n",
            "[{'Name': 'sport', 'Score': 0.9523}, {'Name': 'entertainment', 'Score': 0.024}, {'Name': 'politics', 'Score': 0.0112}]\n",
            "[{'Name': 'tech', 'Score': 1.0}, {'Name': 'politics', 'Score': 0.0}, {'Name': 'entertainment', 'Score': 0.0}]\n",
            "[{'Name': 'politics', 'Score': 0.998}, {'Name': 'business', 'Score': 0.0009}, {'Name': 'entertainment', 'Score': 0.0007}]\n",
            "[{'Name': 'sport', 'Score': 0.9938}, {'Name': 'entertainment', 'Score': 0.0023}, {'Name': 'tech', 'Score': 0.0017}]\n",
            "[{'Name': 'business', 'Score': 0.9832}, {'Name': 'entertainment', 'Score': 0.0071}, {'Name': 'tech', 'Score': 0.0048}]\n",
            "[{'Name': 'entertainment', 'Score': 0.9529}, {'Name': 'sport', 'Score': 0.0244}, {'Name': 'politics', 'Score': 0.0112}]\n",
            "[{'Name': 'entertainment', 'Score': 0.9562}, {'Name': 'sport', 'Score': 0.0123}, {'Name': 'politics', 'Score': 0.0114}]\n",
            "[{'Name': 'sport', 'Score': 0.9834}, {'Name': 'entertainment', 'Score': 0.0095}, {'Name': 'tech', 'Score': 0.0043}]\n",
            "[{'Name': 'tech', 'Score': 0.9924}, {'Name': 'entertainment', 'Score': 0.0028}, {'Name': 'business', 'Score': 0.0024}]\n",
            "[{'Name': 'politics', 'Score': 0.9982}, {'Name': 'tech', 'Score': 0.0007}, {'Name': 'entertainment', 'Score': 0.0005}]\n",
            "[{'Name': 'business', 'Score': 0.9085}, {'Name': 'sport', 'Score': 0.0292}, {'Name': 'entertainment', 'Score': 0.0276}]\n",
            "[{'Name': 'tech', 'Score': 0.9996}, {'Name': 'business', 'Score': 0.0002}, {'Name': 'entertainment', 'Score': 0.0002}]\n",
            "[{'Name': 'business', 'Score': 0.999}, {'Name': 'tech', 'Score': 0.0005}, {'Name': 'politics', 'Score': 0.0004}]\n",
            "[{'Name': 'politics', 'Score': 0.9253}, {'Name': 'entertainment', 'Score': 0.0299}, {'Name': 'tech', 'Score': 0.0265}]\n",
            "[{'Name': 'entertainment', 'Score': 0.9903}, {'Name': 'sport', 'Score': 0.0047}, {'Name': 'politics', 'Score': 0.0033}]\n",
            "[{'Name': 'politics', 'Score': 0.9888}, {'Name': 'entertainment', 'Score': 0.0068}, {'Name': 'sport', 'Score': 0.0024}]\n",
            "[{'Name': 'business', 'Score': 0.97}, {'Name': 'tech', 'Score': 0.0096}, {'Name': 'entertainment', 'Score': 0.0093}]\n",
            "[{'Name': 'politics', 'Score': 0.6288}, {'Name': 'entertainment', 'Score': 0.2213}, {'Name': 'sport', 'Score': 0.0743}]\n",
            "[{'Name': 'business', 'Score': 0.8583}, {'Name': 'entertainment', 'Score': 0.0536}, {'Name': 'tech', 'Score': 0.0458}]\n",
            "[{'Name': 'tech', 'Score': 1.0}, {'Name': 'business', 'Score': 0.0}, {'Name': 'politics', 'Score': 0.0}]\n",
            "[{'Name': 'sport', 'Score': 0.9969}, {'Name': 'entertainment', 'Score': 0.0017}, {'Name': 'politics', 'Score': 0.001}]\n",
            "[{'Name': 'tech', 'Score': 1.0}, {'Name': 'politics', 'Score': 0.0}, {'Name': 'business', 'Score': 0.0}]\n",
            "[{'Name': 'business', 'Score': 0.9232}, {'Name': 'politics', 'Score': 0.034}, {'Name': 'sport', 'Score': 0.0215}]\n",
            "[{'Name': 'business', 'Score': 0.837}, {'Name': 'entertainment', 'Score': 0.0624}, {'Name': 'sport', 'Score': 0.0383}]\n",
            "[{'Name': 'sport', 'Score': 0.9918}, {'Name': 'entertainment', 'Score': 0.0035}, {'Name': 'politics', 'Score': 0.0032}]\n",
            "[{'Name': 'politics', 'Score': 0.9997}, {'Name': 'business', 'Score': 0.0003}, {'Name': 'entertainment', 'Score': 0.0}]\n",
            "[{'Name': 'sport', 'Score': 0.9997}, {'Name': 'entertainment', 'Score': 0.0002}, {'Name': 'politics', 'Score': 0.0001}]\n",
            "[{'Name': 'entertainment', 'Score': 0.9866}, {'Name': 'sport', 'Score': 0.0073}, {'Name': 'tech', 'Score': 0.0029}]\n",
            "[{'Name': 'sport', 'Score': 0.9961}, {'Name': 'entertainment', 'Score': 0.0027}, {'Name': 'politics', 'Score': 0.0009}]\n",
            "[{'Name': 'politics', 'Score': 0.8663}, {'Name': 'entertainment', 'Score': 0.0578}, {'Name': 'business', 'Score': 0.0441}]\n",
            "[{'Name': 'business', 'Score': 0.8071}, {'Name': 'tech', 'Score': 0.0684}, {'Name': 'entertainment', 'Score': 0.049}]\n",
            "[{'Name': 'tech', 'Score': 1.0}, {'Name': 'entertainment', 'Score': 0.0}, {'Name': 'politics', 'Score': 0.0}]\n",
            "[{'Name': 'sport', 'Score': 0.9836}, {'Name': 'entertainment', 'Score': 0.0101}, {'Name': 'business', 'Score': 0.0036}]\n",
            "[{'Name': 'politics', 'Score': 0.9999}, {'Name': 'entertainment', 'Score': 0.0001}, {'Name': 'business', 'Score': 0.0}]\n"
          ]
        }
      ]
    },
    {
      "cell_type": "code",
      "source": [
        "df_test = pd.read_csv('test.csv', header=None)\n"
      ],
      "metadata": {
        "collapsed": true,
        "id": "caUMl-dh2P1F"
      },
      "execution_count": 15,
      "outputs": []
    },
    {
      "cell_type": "code",
      "source": [
        "df_test.columns = [\"Document\"]"
      ],
      "metadata": {
        "id": "7Wm3K-m26Kns"
      },
      "execution_count": 16,
      "outputs": []
    },
    {
      "cell_type": "code",
      "source": [
        "df_test[\"PredictedLabels\"] = predLabels"
      ],
      "metadata": {
        "id": "SOTEXVNb64lW"
      },
      "execution_count": 17,
      "outputs": []
    },
    {
      "cell_type": "code",
      "source": [
        "df_truth = pd.read_csv(\"/content/test_truth.csv\", header=None)"
      ],
      "metadata": {
        "id": "gOtHjTq27CGU"
      },
      "execution_count": 19,
      "outputs": []
    },
    {
      "cell_type": "code",
      "source": [
        "df_truth.columns = [\"TruthLabel\", \"Document\"]"
      ],
      "metadata": {
        "id": "cntfoG3B7Dmy"
      },
      "execution_count": 22,
      "outputs": []
    },
    {
      "cell_type": "code",
      "source": [
        "mergeDF = pd.merge(df_test, df_truth, on=[\"Document\"], how=\"inner\")"
      ],
      "metadata": {
        "id": "t-fpGuHL8hd7"
      },
      "execution_count": 24,
      "outputs": []
    },
    {
      "cell_type": "code",
      "source": [
        "mergeDF[mergeDF.PredictedLabels == mergeDF.TruthLabel].count()"
      ],
      "metadata": {
        "colab": {
          "base_uri": "https://localhost:8080/",
          "height": 178
        },
        "id": "g0oJP4Lu852u",
        "outputId": "7cbfa519-ae30-43ed-d444-d87ff6fec311"
      },
      "execution_count": 27,
      "outputs": [
        {
          "output_type": "execute_result",
          "data": {
            "text/plain": [
              "Document           50\n",
              "PredictedLabels    50\n",
              "TruthLabel         50\n",
              "dtype: int64"
            ],
            "text/html": [
              "<div>\n",
              "<style scoped>\n",
              "    .dataframe tbody tr th:only-of-type {\n",
              "        vertical-align: middle;\n",
              "    }\n",
              "\n",
              "    .dataframe tbody tr th {\n",
              "        vertical-align: top;\n",
              "    }\n",
              "\n",
              "    .dataframe thead th {\n",
              "        text-align: right;\n",
              "    }\n",
              "</style>\n",
              "<table border=\"1\" class=\"dataframe\">\n",
              "  <thead>\n",
              "    <tr style=\"text-align: right;\">\n",
              "      <th></th>\n",
              "      <th>0</th>\n",
              "    </tr>\n",
              "  </thead>\n",
              "  <tbody>\n",
              "    <tr>\n",
              "      <th>Document</th>\n",
              "      <td>50</td>\n",
              "    </tr>\n",
              "    <tr>\n",
              "      <th>PredictedLabels</th>\n",
              "      <td>50</td>\n",
              "    </tr>\n",
              "    <tr>\n",
              "      <th>TruthLabel</th>\n",
              "      <td>50</td>\n",
              "    </tr>\n",
              "  </tbody>\n",
              "</table>\n",
              "</div><br><label><b>dtype:</b> int64</label>"
            ]
          },
          "metadata": {},
          "execution_count": 27
        }
      ]
    },
    {
      "cell_type": "code",
      "source": [],
      "metadata": {
        "id": "t5d-VPAu88IA"
      },
      "execution_count": null,
      "outputs": []
    }
  ]
}